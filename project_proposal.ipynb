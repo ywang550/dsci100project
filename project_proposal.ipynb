{
 "cells": [
  {
   "cell_type": "code",
   "execution_count": 5,
   "id": "8d69a92b-d0ae-4539-86be-f976ebc9b470",
   "metadata": {},
   "outputs": [
    {
     "name": "stderr",
     "output_type": "stream",
     "text": [
      "Warning message:\n",
      "“package ‘ggplot2’ was built under R version 4.3.2”\n",
      "── \u001b[1mAttaching core tidyverse packages\u001b[22m ──────────────────────── tidyverse 2.0.0 ──\n",
      "\u001b[32m✔\u001b[39m \u001b[34mforcats  \u001b[39m 1.0.0     \u001b[32m✔\u001b[39m \u001b[34mreadr    \u001b[39m 2.1.4\n",
      "\u001b[32m✔\u001b[39m \u001b[34mggplot2  \u001b[39m 3.5.0     \u001b[32m✔\u001b[39m \u001b[34mstringr  \u001b[39m 1.5.0\n",
      "\u001b[32m✔\u001b[39m \u001b[34mlubridate\u001b[39m 1.9.2     \u001b[32m✔\u001b[39m \u001b[34mtibble   \u001b[39m 3.2.1\n",
      "\u001b[32m✔\u001b[39m \u001b[34mpurrr    \u001b[39m 1.0.2     \u001b[32m✔\u001b[39m \u001b[34mtidyr    \u001b[39m 1.3.0\n",
      "── \u001b[1mConflicts\u001b[22m ────────────────────────────────────────── tidyverse_conflicts() ──\n",
      "\u001b[31m✖\u001b[39m \u001b[34mdplyr\u001b[39m::\u001b[32mfilter()\u001b[39m masks \u001b[34mstats\u001b[39m::filter()\n",
      "\u001b[31m✖\u001b[39m \u001b[34mdplyr\u001b[39m::\u001b[32mlag()\u001b[39m    masks \u001b[34mstats\u001b[39m::lag()\n",
      "\u001b[36mℹ\u001b[39m Use the conflicted package (\u001b[3m\u001b[34m<http://conflicted.r-lib.org/>\u001b[39m\u001b[23m) to force all conflicts to become errors\n",
      "── \u001b[1mAttaching packages\u001b[22m ────────────────────────────────────── tidymodels 1.1.1 ──\n",
      "\n",
      "\u001b[32m✔\u001b[39m \u001b[34mbroom       \u001b[39m 1.0.5     \u001b[32m✔\u001b[39m \u001b[34mrsample     \u001b[39m 1.2.0\n",
      "\u001b[32m✔\u001b[39m \u001b[34mdials       \u001b[39m 1.2.0     \u001b[32m✔\u001b[39m \u001b[34mtune        \u001b[39m 1.1.2\n",
      "\u001b[32m✔\u001b[39m \u001b[34minfer       \u001b[39m 1.0.5     \u001b[32m✔\u001b[39m \u001b[34mworkflows   \u001b[39m 1.1.3\n",
      "\u001b[32m✔\u001b[39m \u001b[34mmodeldata   \u001b[39m 1.2.0     \u001b[32m✔\u001b[39m \u001b[34mworkflowsets\u001b[39m 1.0.1\n",
      "\u001b[32m✔\u001b[39m \u001b[34mparsnip     \u001b[39m 1.1.1     \u001b[32m✔\u001b[39m \u001b[34myardstick   \u001b[39m 1.2.0\n",
      "\u001b[32m✔\u001b[39m \u001b[34mrecipes     \u001b[39m 1.0.8     \n",
      "\n",
      "── \u001b[1mConflicts\u001b[22m ───────────────────────────────────────── tidymodels_conflicts() ──\n",
      "\u001b[31m✖\u001b[39m \u001b[34mscales\u001b[39m::\u001b[32mdiscard()\u001b[39m masks \u001b[34mpurrr\u001b[39m::discard()\n",
      "\u001b[31m✖\u001b[39m \u001b[34mdplyr\u001b[39m::\u001b[32mfilter()\u001b[39m   masks \u001b[34mstats\u001b[39m::filter()\n",
      "\u001b[31m✖\u001b[39m \u001b[34mrecipes\u001b[39m::\u001b[32mfixed()\u001b[39m  masks \u001b[34mstringr\u001b[39m::fixed()\n",
      "\u001b[31m✖\u001b[39m \u001b[34mdplyr\u001b[39m::\u001b[32mlag()\u001b[39m      masks \u001b[34mstats\u001b[39m::lag()\n",
      "\u001b[31m✖\u001b[39m \u001b[34myardstick\u001b[39m::\u001b[32mspec()\u001b[39m masks \u001b[34mreadr\u001b[39m::spec()\n",
      "\u001b[31m✖\u001b[39m \u001b[34mrecipes\u001b[39m::\u001b[32mstep()\u001b[39m   masks \u001b[34mstats\u001b[39m::step()\n",
      "\u001b[34m•\u001b[39m Search for functions across packages at \u001b[32mhttps://www.tidymodels.org/find/\u001b[39m\n",
      "\n"
     ]
    }
   ],
   "source": [
    "library(tidyverse)\n",
    "library(tidymodels)\n",
    "library(readr)\n",
    "library(utils)"
   ]
  },
  {
   "cell_type": "code",
   "execution_count": 13,
   "id": "97b2ac73-c780-44ad-a508-12fb7a5fa5fe",
   "metadata": {},
   "outputs": [
    {
     "name": "stderr",
     "output_type": "stream",
     "text": [
      "\u001b[1mRows: \u001b[22m\u001b[34m303\u001b[39m \u001b[1mColumns: \u001b[22m\u001b[34m14\u001b[39m\n",
      "\u001b[36m──\u001b[39m \u001b[1mColumn specification\u001b[22m \u001b[36m────────────────────────────────────────────────────────\u001b[39m\n",
      "\u001b[1mDelimiter:\u001b[22m \",\"\n",
      "\u001b[31mchr\u001b[39m  (2): ca, thal\n",
      "\u001b[32mdbl\u001b[39m (12): age, sex, cp, trestbps, chol, fbs, restecg, thalach, exang, oldpea...\n",
      "\n",
      "\u001b[36mℹ\u001b[39m Use `spec()` to retrieve the full column specification for this data.\n",
      "\u001b[36mℹ\u001b[39m Specify the column types or set `show_col_types = FALSE` to quiet this message.\n"
     ]
    },
    {
     "data": {
      "text/html": [
       "<table class=\"dataframe\">\n",
       "<caption>A tibble: 6 × 5</caption>\n",
       "<thead>\n",
       "\t<tr><th scope=col>age</th><th scope=col>cp</th><th scope=col>region</th><th scope=col>num</th><th scope=col>presc</th></tr>\n",
       "\t<tr><th scope=col>&lt;dbl&gt;</th><th scope=col>&lt;fct&gt;</th><th scope=col>&lt;fct&gt;</th><th scope=col>&lt;dbl&gt;</th><th scope=col>&lt;lgl&gt;</th></tr>\n",
       "</thead>\n",
       "<tbody>\n",
       "\t<tr><td>63</td><td>1</td><td>Cleveland</td><td>0</td><td>FALSE</td></tr>\n",
       "\t<tr><td>67</td><td>4</td><td>Cleveland</td><td>2</td><td> TRUE</td></tr>\n",
       "\t<tr><td>67</td><td>4</td><td>Cleveland</td><td>1</td><td> TRUE</td></tr>\n",
       "\t<tr><td>37</td><td>3</td><td>Cleveland</td><td>0</td><td>FALSE</td></tr>\n",
       "\t<tr><td>41</td><td>2</td><td>Cleveland</td><td>0</td><td>FALSE</td></tr>\n",
       "\t<tr><td>56</td><td>2</td><td>Cleveland</td><td>0</td><td>FALSE</td></tr>\n",
       "</tbody>\n",
       "</table>\n"
      ],
      "text/latex": [
       "A tibble: 6 × 5\n",
       "\\begin{tabular}{lllll}\n",
       " age & cp & region & num & presc\\\\\n",
       " <dbl> & <fct> & <fct> & <dbl> & <lgl>\\\\\n",
       "\\hline\n",
       "\t 63 & 1 & Cleveland & 0 & FALSE\\\\\n",
       "\t 67 & 4 & Cleveland & 2 &  TRUE\\\\\n",
       "\t 67 & 4 & Cleveland & 1 &  TRUE\\\\\n",
       "\t 37 & 3 & Cleveland & 0 & FALSE\\\\\n",
       "\t 41 & 2 & Cleveland & 0 & FALSE\\\\\n",
       "\t 56 & 2 & Cleveland & 0 & FALSE\\\\\n",
       "\\end{tabular}\n"
      ],
      "text/markdown": [
       "\n",
       "A tibble: 6 × 5\n",
       "\n",
       "| age &lt;dbl&gt; | cp &lt;fct&gt; | region &lt;fct&gt; | num &lt;dbl&gt; | presc &lt;lgl&gt; |\n",
       "|---|---|---|---|---|\n",
       "| 63 | 1 | Cleveland | 0 | FALSE |\n",
       "| 67 | 4 | Cleveland | 2 |  TRUE |\n",
       "| 67 | 4 | Cleveland | 1 |  TRUE |\n",
       "| 37 | 3 | Cleveland | 0 | FALSE |\n",
       "| 41 | 2 | Cleveland | 0 | FALSE |\n",
       "| 56 | 2 | Cleveland | 0 | FALSE |\n",
       "\n"
      ],
      "text/plain": [
       "  age cp region    num presc\n",
       "1 63  1  Cleveland 0   FALSE\n",
       "2 67  4  Cleveland 2    TRUE\n",
       "3 67  4  Cleveland 1    TRUE\n",
       "4 37  3  Cleveland 0   FALSE\n",
       "5 41  2  Cleveland 0   FALSE\n",
       "6 56  2  Cleveland 0   FALSE"
      ]
     },
     "metadata": {},
     "output_type": "display_data"
    }
   ],
   "source": [
    "# Read the data we need from web into R. \n",
    "\n",
    "\n",
    "\n",
    "# Read the dataset: The dataset I choose is \"Cleveland\" dataset.\n",
    "\n",
    "heart_disease_data <- read_csv(\"data/heart_disease/processed.cleveland.data\",\n",
    "                               c(\"age\", \"sex\", \"cp\", \"trestbps\", \"chol\", \"fbs\", \"restecg\", \"thalach\", \"exang\", \"oldpeak\", \"slope\", \"ca\", \"thal\", \"num\"))\n",
    "\n",
    "heart_disease_data[ heart_disease_data == \"?\" ] <- NA\n",
    "\n",
    "#Select needed variables; this step is used for cleaning and wrangling the data into tidy format.\n",
    "heart_disease_data <- heart_disease_data |>\n",
    "  mutate(presc = ifelse(is.na(num), NA, (num > 0))) |>\n",
    "  mutate(region = as.factor(\"Cleveland\"),\n",
    "        sex = as.factor(sex),\n",
    "         cp = as.factor(cp)) |>\n",
    "  select(age, cp, region, num, presc)\n",
    "\n",
    "#Display the first few rows as a table.\n",
    "head(heart_disease_data)\n"
   ]
  },
  {
   "cell_type": "code",
   "execution_count": 7,
   "id": "eeb8a856-5ffd-4950-8b3f-ebdf155e662e",
   "metadata": {},
   "outputs": [
    {
     "data": {
      "text/html": [
       "<table class=\"dataframe\">\n",
       "<caption>A data.frame: 6 × 4</caption>\n",
       "<thead>\n",
       "\t<tr><th></th><th scope=col>age</th><th scope=col>cp</th><th scope=col>region</th><th scope=col>num</th></tr>\n",
       "\t<tr><th></th><th scope=col>&lt;dbl&gt;</th><th scope=col>&lt;fct&gt;</th><th scope=col>&lt;fct&gt;</th><th scope=col>&lt;int&gt;</th></tr>\n",
       "</thead>\n",
       "<tbody>\n",
       "\t<tr><th scope=row>1</th><td>67</td><td>4</td><td>Cleveland</td><td>1</td></tr>\n",
       "\t<tr><th scope=row>2</th><td>37</td><td>3</td><td>Cleveland</td><td>0</td></tr>\n",
       "\t<tr><th scope=row>3</th><td>56</td><td>2</td><td>Cleveland</td><td>0</td></tr>\n",
       "\t<tr><th scope=row>4</th><td>62</td><td>4</td><td>Cleveland</td><td>3</td></tr>\n",
       "\t<tr><th scope=row>5</th><td>57</td><td>4</td><td>Cleveland</td><td>0</td></tr>\n",
       "\t<tr><th scope=row>6</th><td>63</td><td>4</td><td>Cleveland</td><td>2</td></tr>\n",
       "</tbody>\n",
       "</table>\n"
      ],
      "text/latex": [
       "A data.frame: 6 × 4\n",
       "\\begin{tabular}{r|llll}\n",
       "  & age & cp & region & num\\\\\n",
       "  & <dbl> & <fct> & <fct> & <int>\\\\\n",
       "\\hline\n",
       "\t1 & 67 & 4 & Cleveland & 1\\\\\n",
       "\t2 & 37 & 3 & Cleveland & 0\\\\\n",
       "\t3 & 56 & 2 & Cleveland & 0\\\\\n",
       "\t4 & 62 & 4 & Cleveland & 3\\\\\n",
       "\t5 & 57 & 4 & Cleveland & 0\\\\\n",
       "\t6 & 63 & 4 & Cleveland & 2\\\\\n",
       "\\end{tabular}\n"
      ],
      "text/markdown": [
       "\n",
       "A data.frame: 6 × 4\n",
       "\n",
       "| <!--/--> | age &lt;dbl&gt; | cp &lt;fct&gt; | region &lt;fct&gt; | num &lt;int&gt; |\n",
       "|---|---|---|---|---|\n",
       "| 1 | 67 | 4 | Cleveland | 1 |\n",
       "| 2 | 37 | 3 | Cleveland | 0 |\n",
       "| 3 | 56 | 2 | Cleveland | 0 |\n",
       "| 4 | 62 | 4 | Cleveland | 3 |\n",
       "| 5 | 57 | 4 | Cleveland | 0 |\n",
       "| 6 | 63 | 4 | Cleveland | 2 |\n",
       "\n"
      ],
      "text/plain": [
       "  age cp region    num\n",
       "1 67  4  Cleveland 1  \n",
       "2 37  3  Cleveland 0  \n",
       "3 56  2  Cleveland 0  \n",
       "4 62  4  Cleveland 3  \n",
       "5 57  4  Cleveland 0  \n",
       "6 63  4  Cleveland 2  "
      ]
     },
     "metadata": {},
     "output_type": "display_data"
    },
    {
     "data": {
      "text/html": [
       "<table class=\"dataframe\">\n",
       "<caption>A data.frame: 6 × 4</caption>\n",
       "<thead>\n",
       "\t<tr><th></th><th scope=col>age</th><th scope=col>cp</th><th scope=col>region</th><th scope=col>num</th></tr>\n",
       "\t<tr><th></th><th scope=col>&lt;dbl&gt;</th><th scope=col>&lt;fct&gt;</th><th scope=col>&lt;fct&gt;</th><th scope=col>&lt;int&gt;</th></tr>\n",
       "</thead>\n",
       "<tbody>\n",
       "\t<tr><th scope=row>1</th><td>63</td><td>1</td><td>Cleveland</td><td>0</td></tr>\n",
       "\t<tr><th scope=row>2</th><td>67</td><td>4</td><td>Cleveland</td><td>2</td></tr>\n",
       "\t<tr><th scope=row>3</th><td>41</td><td>2</td><td>Cleveland</td><td>0</td></tr>\n",
       "\t<tr><th scope=row>4</th><td>52</td><td>3</td><td>Cleveland</td><td>0</td></tr>\n",
       "\t<tr><th scope=row>5</th><td>57</td><td>3</td><td>Cleveland</td><td>0</td></tr>\n",
       "\t<tr><th scope=row>6</th><td>58</td><td>2</td><td>Cleveland</td><td>1</td></tr>\n",
       "</tbody>\n",
       "</table>\n"
      ],
      "text/latex": [
       "A data.frame: 6 × 4\n",
       "\\begin{tabular}{r|llll}\n",
       "  & age & cp & region & num\\\\\n",
       "  & <dbl> & <fct> & <fct> & <int>\\\\\n",
       "\\hline\n",
       "\t1 & 63 & 1 & Cleveland & 0\\\\\n",
       "\t2 & 67 & 4 & Cleveland & 2\\\\\n",
       "\t3 & 41 & 2 & Cleveland & 0\\\\\n",
       "\t4 & 52 & 3 & Cleveland & 0\\\\\n",
       "\t5 & 57 & 3 & Cleveland & 0\\\\\n",
       "\t6 & 58 & 2 & Cleveland & 1\\\\\n",
       "\\end{tabular}\n"
      ],
      "text/markdown": [
       "\n",
       "A data.frame: 6 × 4\n",
       "\n",
       "| <!--/--> | age &lt;dbl&gt; | cp &lt;fct&gt; | region &lt;fct&gt; | num &lt;int&gt; |\n",
       "|---|---|---|---|---|\n",
       "| 1 | 63 | 1 | Cleveland | 0 |\n",
       "| 2 | 67 | 4 | Cleveland | 2 |\n",
       "| 3 | 41 | 2 | Cleveland | 0 |\n",
       "| 4 | 52 | 3 | Cleveland | 0 |\n",
       "| 5 | 57 | 3 | Cleveland | 0 |\n",
       "| 6 | 58 | 2 | Cleveland | 1 |\n",
       "\n"
      ],
      "text/plain": [
       "  age cp region    num\n",
       "1 63  1  Cleveland 0  \n",
       "2 67  4  Cleveland 2  \n",
       "3 41  2  Cleveland 0  \n",
       "4 52  3  Cleveland 0  \n",
       "5 57  3  Cleveland 0  \n",
       "6 58  2  Cleveland 1  "
      ]
     },
     "metadata": {},
     "output_type": "display_data"
    }
   ],
   "source": [
    "#Create training and testing sets\n",
    "set.seed(1234)\n",
    "heart_disease_split <- initial_split(heart_disease_data, prop = 0.75, strata = region)\n",
    "heart_disease_train <- training(heart_disease_split)\n",
    "heart_disease_test <- testing(heart_disease_split)\n",
    "\n",
    "#Display both training and testing sets\n",
    "head(heart_disease_train)\n",
    "head(heart_disease_test)"
   ]
  },
  {
   "cell_type": "code",
   "execution_count": null,
   "id": "2299bbe3-9a7d-4daf-8390-e67849b2741c",
   "metadata": {},
   "outputs": [],
   "source": [
    "# Now, we can put test set aside, and use only training set to create scatter plot in order to show the relationship between \"Age\" and \"Chest Pain\" "
   ]
  },
  {
   "cell_type": "code",
   "execution_count": null,
   "id": "79f10ec3-aa09-4fc2-bd22-5e7c79715293",
   "metadata": {},
   "outputs": [],
   "source": []
  }
 ],
 "metadata": {
  "kernelspec": {
   "display_name": "R",
   "language": "R",
   "name": "ir"
  },
  "language_info": {
   "codemirror_mode": "r",
   "file_extension": ".r",
   "mimetype": "text/x-r-source",
   "name": "R",
   "pygments_lexer": "r",
   "version": "4.3.1"
  }
 },
 "nbformat": 4,
 "nbformat_minor": 5
}
